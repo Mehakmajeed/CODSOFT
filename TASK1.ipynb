{
 "cells": [
  {
   "cell_type": "code",
   "execution_count": null,
   "id": "e34f49ac",
   "metadata": {},
   "outputs": [],
   "source": [
    "# internship task 1\n",
    "\n",
    "tasks = []\n",
    "\n",
    "while True:\n",
    "    print(\"\\n1. add Task\")\n",
    "    print(\"2. show Tasks\")\n",
    "    print(\"3. exit\")\n",
    "\n",
    "    choice = input(\"Enter your choice 1,2,3: \")\n",
    "\n",
    "    if choice == \"1\":\n",
    "        task = input(\"Enter task: \")\n",
    "        tasks.append(task)\n",
    "        print(\"Task added successfully!\")\n",
    "\n",
    "    elif choice == \"2\":\n",
    "        if tasks:\n",
    "            print(\"\\nTasks:\")\n",
    "            for index, task in enumerate(tasks, start=1):\n",
    "                print(f\"{index}. {task}\")\n",
    "        else:\n",
    "            print(\"No tasks available.\")\n",
    "\n",
    "    elif choice == \"3\":\n",
    "        print(\"you succesfully completed/updated your list\")\n",
    "        break\n",
    "\n",
    "    else:\n",
    "        print(\"Invalid choice. Please enter 1, 2, or 3.\")\n"
   ]
  },
  {
   "cell_type": "code",
   "execution_count": null,
   "id": "bacd21f0",
   "metadata": {},
   "outputs": [],
   "source": []
  }
 ],
 "metadata": {
  "kernelspec": {
   "display_name": "Python 3 (ipykernel)",
   "language": "python",
   "name": "python3"
  },
  "language_info": {
   "codemirror_mode": {
    "name": "ipython",
    "version": 3
   },
   "file_extension": ".py",
   "mimetype": "text/x-python",
   "name": "python",
   "nbconvert_exporter": "python",
   "pygments_lexer": "ipython3",
   "version": "3.10.9"
  }
 },
 "nbformat": 4,
 "nbformat_minor": 5
}
