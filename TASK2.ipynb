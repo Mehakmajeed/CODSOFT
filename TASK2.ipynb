{
 "cells": [
  {
   "cell_type": "code",
   "execution_count": 1,
   "id": "76ed9a49",
   "metadata": {},
   "outputs": [
    {
     "name": "stdout",
     "output_type": "stream",
     "text": [
      "Select operation of choice\n",
      "Add numbers 1\n",
      "Subtract numbers 2 \n",
      "Multiply numbers 3\n",
      "Divide numbers 4\n",
      "Enter your choice of operation 1\n",
      "Enter first number 1\n",
      "Enter second number 1\n",
      "1 + 1 = 2\n"
     ]
    }
   ],
   "source": [
    "def add(x, y):\n",
    "    return x + y\n",
    "\n",
    "def subtract(x, y):\n",
    "    return x - y\n",
    "\n",
    "def multiply(x, y):\n",
    "    return x * y\n",
    "\n",
    "def divide(x, y):\n",
    "    return x / y\n",
    "\n",
    "\n",
    "print(\"Select operation of choice\")\n",
    "print(\"Add numbers 1\")\n",
    "print(\"Subtract numbers 2 \")\n",
    "print(\"Multiply numbers 3\")\n",
    "print(\"Divide numbers 4\")\n",
    "\n",
    "ch = int(input(\"Enter your choice of operation \"))\n",
    "\n",
    "x = int(input(\"Enter first number \"))\n",
    "y= int(input(\"Enter second number \"))\n",
    "\n",
    "if ch == 1:\n",
    "    print(x,\"+\",y,\"=\",add(x,y))\n",
    "    \n",
    "elif ch == 2:\n",
    "    print(x,\"-\",y,\"=\",subtract(x,y))\n",
    "        \n",
    "elif ch == 3:\n",
    "    print(x,\"*\",y,\"=\",multiply(x,y))\n",
    "        \n",
    "elif ch == 4:\n",
    "    print(x,\"/\",y,\"=\",divide(x,y))\n",
    "else:\n",
    "    print(\" input not valid\")\n",
    "        \n"
   ]
  },
  {
   "cell_type": "code",
   "execution_count": null,
   "id": "6f887c59",
   "metadata": {},
   "outputs": [],
   "source": []
  }
 ],
 "metadata": {
  "kernelspec": {
   "display_name": "Python 3 (ipykernel)",
   "language": "python",
   "name": "python3"
  },
  "language_info": {
   "codemirror_mode": {
    "name": "ipython",
    "version": 3
   },
   "file_extension": ".py",
   "mimetype": "text/x-python",
   "name": "python",
   "nbconvert_exporter": "python",
   "pygments_lexer": "ipython3",
   "version": "3.10.9"
  }
 },
 "nbformat": 4,
 "nbformat_minor": 5
}
